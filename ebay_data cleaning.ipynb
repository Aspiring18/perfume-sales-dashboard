{
 "cells": [
  {
   "cell_type": "code",
   "execution_count": 1,
   "id": "8fcdbf31-32b1-41a7-848a-9b22484d0df1",
   "metadata": {},
   "outputs": [],
   "source": [
    "import pandas as pd"
   ]
  },
  {
   "cell_type": "code",
   "execution_count": 2,
   "id": "f4b83673-d3b0-4183-ae2d-c54db0e6cdcb",
   "metadata": {},
   "outputs": [],
   "source": [
    "df = pd.read_csv(\"ebay_womens_perfume.csv\")"
   ]
  },
  {
   "cell_type": "code",
   "execution_count": 3,
   "id": "5928f9f6-a36a-4458-9cbc-b6a17b7323a7",
   "metadata": {},
   "outputs": [
    {
     "data": {
      "text/html": [
       "<div>\n",
       "<style scoped>\n",
       "    .dataframe tbody tr th:only-of-type {\n",
       "        vertical-align: middle;\n",
       "    }\n",
       "\n",
       "    .dataframe tbody tr th {\n",
       "        vertical-align: top;\n",
       "    }\n",
       "\n",
       "    .dataframe thead th {\n",
       "        text-align: right;\n",
       "    }\n",
       "</style>\n",
       "<table border=\"1\" class=\"dataframe\">\n",
       "  <thead>\n",
       "    <tr style=\"text-align: right;\">\n",
       "      <th></th>\n",
       "      <th>brand</th>\n",
       "      <th>title</th>\n",
       "      <th>type</th>\n",
       "      <th>price</th>\n",
       "      <th>priceWithCurrency</th>\n",
       "      <th>available</th>\n",
       "      <th>availableText</th>\n",
       "      <th>sold</th>\n",
       "      <th>lastUpdated</th>\n",
       "      <th>itemLocation</th>\n",
       "    </tr>\n",
       "  </thead>\n",
       "  <tbody>\n",
       "    <tr>\n",
       "      <th>0</th>\n",
       "      <td>Carolina Herrera</td>\n",
       "      <td>Good Girl by Carolina Herrera 2.7 oz Eau De Pa...</td>\n",
       "      <td>Eau de Parfum</td>\n",
       "      <td>43.99</td>\n",
       "      <td>US $43.99/ea</td>\n",
       "      <td>2.0</td>\n",
       "      <td>2 available / 393 sold</td>\n",
       "      <td>393.0</td>\n",
       "      <td>May 23, 2024 10:43:50 PDT</td>\n",
       "      <td>Thomasville, Alabama, United States</td>\n",
       "    </tr>\n",
       "    <tr>\n",
       "      <th>1</th>\n",
       "      <td>As Shown</td>\n",
       "      <td>Parfums de Marly Delina La Rosee Eau de Parfum...</td>\n",
       "      <td>Eau de Parfum</td>\n",
       "      <td>79.99</td>\n",
       "      <td>US $79.99</td>\n",
       "      <td>5.0</td>\n",
       "      <td>5 available / 40 sold</td>\n",
       "      <td>40.0</td>\n",
       "      <td>May 24, 2024 00:15:48 PDT</td>\n",
       "      <td>New Jersey, Hong Kong</td>\n",
       "    </tr>\n",
       "    <tr>\n",
       "      <th>2</th>\n",
       "      <td>PRADA</td>\n",
       "      <td>PRADA Paradoxe by Prada EDP 3.0oz/90ml Spray P...</td>\n",
       "      <td>Eau de Parfum</td>\n",
       "      <td>59.99</td>\n",
       "      <td>US $59.99</td>\n",
       "      <td>10.0</td>\n",
       "      <td>More than 10 available / 35 sold</td>\n",
       "      <td>35.0</td>\n",
       "      <td>May 14, 2024 20:54:25 PDT</td>\n",
       "      <td>Orange, New Jersey, United States</td>\n",
       "    </tr>\n",
       "    <tr>\n",
       "      <th>3</th>\n",
       "      <td>As Show</td>\n",
       "      <td>J'adore Parfum D'eau by Christian 3.4 oz EDP F...</td>\n",
       "      <td>Eau de Parfum</td>\n",
       "      <td>59.99</td>\n",
       "      <td>US $59.99/ea</td>\n",
       "      <td>10.0</td>\n",
       "      <td>More than 10 available / 9 sold</td>\n",
       "      <td>9.0</td>\n",
       "      <td>May 23, 2024 01:23:05 PDT</td>\n",
       "      <td>USA, New Jersey, Hong Kong</td>\n",
       "    </tr>\n",
       "    <tr>\n",
       "      <th>4</th>\n",
       "      <td>Khadlaj</td>\n",
       "      <td>Shiyaaka for Men EDP Spray 100ML (3.4 FL.OZ) B...</td>\n",
       "      <td>Eau de Parfum</td>\n",
       "      <td>29.99</td>\n",
       "      <td>US $29.99/ea</td>\n",
       "      <td>10.0</td>\n",
       "      <td>More than 10 available</td>\n",
       "      <td>NaN</td>\n",
       "      <td>NaN</td>\n",
       "      <td>Little Ferry, New Jersey, United States</td>\n",
       "    </tr>\n",
       "  </tbody>\n",
       "</table>\n",
       "</div>"
      ],
      "text/plain": [
       "              brand                                              title  \\\n",
       "0  Carolina Herrera  Good Girl by Carolina Herrera 2.7 oz Eau De Pa...   \n",
       "1          As Shown  Parfums de Marly Delina La Rosee Eau de Parfum...   \n",
       "2             PRADA  PRADA Paradoxe by Prada EDP 3.0oz/90ml Spray P...   \n",
       "3           As Show  J'adore Parfum D'eau by Christian 3.4 oz EDP F...   \n",
       "4           Khadlaj  Shiyaaka for Men EDP Spray 100ML (3.4 FL.OZ) B...   \n",
       "\n",
       "            type  price priceWithCurrency  available  \\\n",
       "0  Eau de Parfum  43.99      US $43.99/ea        2.0   \n",
       "1  Eau de Parfum  79.99         US $79.99        5.0   \n",
       "2  Eau de Parfum  59.99         US $59.99       10.0   \n",
       "3  Eau de Parfum  59.99      US $59.99/ea       10.0   \n",
       "4  Eau de Parfum  29.99      US $29.99/ea       10.0   \n",
       "\n",
       "                      availableText   sold                lastUpdated  \\\n",
       "0            2 available / 393 sold  393.0  May 23, 2024 10:43:50 PDT   \n",
       "1             5 available / 40 sold   40.0  May 24, 2024 00:15:48 PDT   \n",
       "2  More than 10 available / 35 sold   35.0  May 14, 2024 20:54:25 PDT   \n",
       "3   More than 10 available / 9 sold    9.0  May 23, 2024 01:23:05 PDT   \n",
       "4            More than 10 available    NaN                        NaN   \n",
       "\n",
       "                              itemLocation  \n",
       "0      Thomasville, Alabama, United States  \n",
       "1                    New Jersey, Hong Kong  \n",
       "2        Orange, New Jersey, United States  \n",
       "3               USA, New Jersey, Hong Kong  \n",
       "4  Little Ferry, New Jersey, United States  "
      ]
     },
     "execution_count": 3,
     "metadata": {},
     "output_type": "execute_result"
    }
   ],
   "source": [
    "df.head()"
   ]
  },
  {
   "cell_type": "code",
   "execution_count": 4,
   "id": "bb4cb6b6-0b7f-49c0-a7cb-b8294118f051",
   "metadata": {},
   "outputs": [
    {
     "data": {
      "text/html": [
       "<div>\n",
       "<style scoped>\n",
       "    .dataframe tbody tr th:only-of-type {\n",
       "        vertical-align: middle;\n",
       "    }\n",
       "\n",
       "    .dataframe tbody tr th {\n",
       "        vertical-align: top;\n",
       "    }\n",
       "\n",
       "    .dataframe thead th {\n",
       "        text-align: right;\n",
       "    }\n",
       "</style>\n",
       "<table border=\"1\" class=\"dataframe\">\n",
       "  <thead>\n",
       "    <tr style=\"text-align: right;\">\n",
       "      <th></th>\n",
       "      <th>brand</th>\n",
       "      <th>title</th>\n",
       "      <th>type</th>\n",
       "      <th>price</th>\n",
       "      <th>priceWithCurrency</th>\n",
       "      <th>available</th>\n",
       "      <th>availableText</th>\n",
       "      <th>sold</th>\n",
       "      <th>lastUpdated</th>\n",
       "      <th>itemLocation</th>\n",
       "    </tr>\n",
       "  </thead>\n",
       "  <tbody>\n",
       "    <tr>\n",
       "      <th>995</th>\n",
       "      <td>Avon</td>\n",
       "      <td>Avon Far Away Infinity Eau de Parfum 1.7 fl. o...</td>\n",
       "      <td>Eau de Parfum</td>\n",
       "      <td>13.89</td>\n",
       "      <td>US $13.89</td>\n",
       "      <td>10.0</td>\n",
       "      <td>More than 10 available / 157 sold</td>\n",
       "      <td>157.0</td>\n",
       "      <td>May 16, 2024 22:35:29 PDT</td>\n",
       "      <td>West Palm Beach, Florida, United States</td>\n",
       "    </tr>\n",
       "    <tr>\n",
       "      <th>996</th>\n",
       "      <td>Mancera</td>\n",
       "      <td>Roses Greedy by Mancera perfume for unisex EDP...</td>\n",
       "      <td>Eau de Parfum</td>\n",
       "      <td>57.85</td>\n",
       "      <td>US $57.85/ea</td>\n",
       "      <td>33.0</td>\n",
       "      <td>33 available / 58 sold</td>\n",
       "      <td>58.0</td>\n",
       "      <td>May 24, 2024 08:03:11 PDT</td>\n",
       "      <td>Dallas, Texas, United States</td>\n",
       "    </tr>\n",
       "    <tr>\n",
       "      <th>997</th>\n",
       "      <td>Unbranded</td>\n",
       "      <td>Sweet Tooth Eau de Parfum, Perfume for Women, ...</td>\n",
       "      <td>1</td>\n",
       "      <td>30.96</td>\n",
       "      <td>US $30.96</td>\n",
       "      <td>2.0</td>\n",
       "      <td>2 available / 3 sold</td>\n",
       "      <td>3.0</td>\n",
       "      <td>May 17, 2024 23:16:41 PDT</td>\n",
       "      <td>New York, New York, United States</td>\n",
       "    </tr>\n",
       "    <tr>\n",
       "      <th>998</th>\n",
       "      <td>Juliette Has A Gun</td>\n",
       "      <td>MMMM BY Juliette Has A Gun perfume for her EDP...</td>\n",
       "      <td>Eau de Perfume</td>\n",
       "      <td>53.99</td>\n",
       "      <td>US $53.99/ea</td>\n",
       "      <td>3.0</td>\n",
       "      <td>3 available / 117 sold</td>\n",
       "      <td>117.0</td>\n",
       "      <td>May 13, 2024 22:19:34 PDT</td>\n",
       "      <td>Dallas, Texas, United States</td>\n",
       "    </tr>\n",
       "    <tr>\n",
       "      <th>999</th>\n",
       "      <td>Paris Hilton</td>\n",
       "      <td>PARIS HILTON ELECTRIFY for Women Cologne 3.4 o...</td>\n",
       "      <td>Eau de Parfum</td>\n",
       "      <td>14.99</td>\n",
       "      <td>US $14.99/ea</td>\n",
       "      <td>4.0</td>\n",
       "      <td>4 available / 51 sold</td>\n",
       "      <td>51.0</td>\n",
       "      <td>May 22, 2024 05:44:45 PDT</td>\n",
       "      <td>TX, United States</td>\n",
       "    </tr>\n",
       "  </tbody>\n",
       "</table>\n",
       "</div>"
      ],
      "text/plain": [
       "                  brand                                              title  \\\n",
       "995                Avon  Avon Far Away Infinity Eau de Parfum 1.7 fl. o...   \n",
       "996             Mancera  Roses Greedy by Mancera perfume for unisex EDP...   \n",
       "997           Unbranded  Sweet Tooth Eau de Parfum, Perfume for Women, ...   \n",
       "998  Juliette Has A Gun  MMMM BY Juliette Has A Gun perfume for her EDP...   \n",
       "999        Paris Hilton  PARIS HILTON ELECTRIFY for Women Cologne 3.4 o...   \n",
       "\n",
       "               type  price priceWithCurrency  available  \\\n",
       "995   Eau de Parfum  13.89         US $13.89       10.0   \n",
       "996   Eau de Parfum  57.85      US $57.85/ea       33.0   \n",
       "997               1  30.96         US $30.96        2.0   \n",
       "998  Eau de Perfume  53.99      US $53.99/ea        3.0   \n",
       "999   Eau de Parfum  14.99      US $14.99/ea        4.0   \n",
       "\n",
       "                         availableText   sold                lastUpdated  \\\n",
       "995  More than 10 available / 157 sold  157.0  May 16, 2024 22:35:29 PDT   \n",
       "996             33 available / 58 sold   58.0  May 24, 2024 08:03:11 PDT   \n",
       "997               2 available / 3 sold    3.0  May 17, 2024 23:16:41 PDT   \n",
       "998             3 available / 117 sold  117.0  May 13, 2024 22:19:34 PDT   \n",
       "999              4 available / 51 sold   51.0  May 22, 2024 05:44:45 PDT   \n",
       "\n",
       "                                itemLocation  \n",
       "995  West Palm Beach, Florida, United States  \n",
       "996             Dallas, Texas, United States  \n",
       "997        New York, New York, United States  \n",
       "998             Dallas, Texas, United States  \n",
       "999                        TX, United States  "
      ]
     },
     "execution_count": 4,
     "metadata": {},
     "output_type": "execute_result"
    }
   ],
   "source": [
    "df.tail()"
   ]
  },
  {
   "cell_type": "code",
   "execution_count": 5,
   "id": "f16ce3af-c134-4118-b91c-88a56d76b41e",
   "metadata": {},
   "outputs": [
    {
     "data": {
      "text/plain": [
       "Index(['brand', 'title', 'type', 'price', 'priceWithCurrency', 'available',\n",
       "       'availableText', 'sold', 'lastUpdated', 'itemLocation'],\n",
       "      dtype='object')"
      ]
     },
     "execution_count": 5,
     "metadata": {},
     "output_type": "execute_result"
    }
   ],
   "source": [
    "df.columns"
   ]
  },
  {
   "cell_type": "code",
   "execution_count": 6,
   "id": "22419fcd-adb4-47d9-abc8-87b086a8a4f5",
   "metadata": {},
   "outputs": [
    {
     "data": {
      "text/plain": [
       "brand                 object\n",
       "title                 object\n",
       "type                  object\n",
       "price                float64\n",
       "priceWithCurrency     object\n",
       "available            float64\n",
       "availableText         object\n",
       "sold                 float64\n",
       "lastUpdated           object\n",
       "itemLocation          object\n",
       "dtype: object"
      ]
     },
     "execution_count": 6,
     "metadata": {},
     "output_type": "execute_result"
    }
   ],
   "source": [
    "df.dtypes\n"
   ]
  },
  {
   "cell_type": "code",
   "execution_count": 7,
   "id": "79842de9-e9a9-4758-817a-c97781ca5531",
   "metadata": {},
   "outputs": [
    {
     "data": {
      "text/plain": [
       "array(['Carolina Herrera', 'As Shown', 'PRADA', 'As Show', 'Khadlaj',\n",
       "       'Viktor & Rolf', 'AS SHOW', 'Versace', 'Lattafa',\n",
       "       'Yves Saint Laurent', 'Gucci', 'Coach', 'Guerlain', 'Philosophy',\n",
       "       'Marc Jacobs', 'AS SHOWN', 'Dolce & Gabbana', 'QRC',\n",
       "       '~ CREPE ERASE ~', 'Unbranded', 'YSL', 'Parfums de Marly',\n",
       "       'Dolce&Gabbana', 'EX NIHILO', 'Juliette has a gun', 'Davidoff',\n",
       "       'Giorgi^o Armani', 'Roja', 'Ariana Grande', 'Sol De Janeiro',\n",
       "       'Kilian', 'Donna Karan', 'Narciso Rodriguez', 'Giorgio² Armani',\n",
       "       'KENZO', 'Burberry', 'Thierry Mugler', 'Juicy Couture',\n",
       "       'Maison Margiela', 'Jo Malone', 'Elizabeth Arden',\n",
       "       'Urban Outfitters', 'Dossier', 'Maison Alhambra', 'ALT Fragrances',\n",
       "       'Estée Lauder', \"Victoria's Secret\", 'Kim Kardashian', 'Gap',\n",
       "       'Cacharel', 'Jessica McClintock', 'AS  SHOWN', 'Clinique',\n",
       "       'Valentino', 'Giorgio Armani', 'Jimmy Choo', 'Calvin Klein',\n",
       "       'Alfred Sung', 'Gloria Vanderbilt', 'Parfums', 'Ouai', 'Lancôme',\n",
       "       'Ellis Brooklyn', 'Elizabeth Taylor', 'Generic', 'Al Haramain',\n",
       "       'Al Rehab', 'BYREDO', 'Huda Beauty Kayali', 'Evyan', 'Lake&skye',\n",
       "       'Frederic Malle', 'Marilyn Miglin', 'Aquolina', 'Perry Ellis',\n",
       "       'Armaf', 'Lattafa Perfumes', 'ALFRED SUNG', 'Katy Perry',\n",
       "       'Montblanc', 'Atelier Cologne', 'Christian Audigier', 'Vera Wang',\n",
       "       'GUESS', 'Coty', 'Clean', 'Afnan', 'Britney Spears',\n",
       "       'Estee Lauder', 'Givenchy', 'ESCADA', 'Michael Kors', 'Le Labo',\n",
       "       'Hollister', 'Ralph Lauren', 'Glossier', 'Dolce Gabbana', 'Chloe',\n",
       "       'LANCOME', 'Lancome', 'Natalie', 'Paris Hilton', 'Avon',\n",
       "       'Chaka by Chaka Khan', 'CHANEL', 'HUGO BOSS', 'Huda Beauty',\n",
       "       'Bellie Eilish', 'Lucky', 'Giorgio Beverly Hills', 'TF',\n",
       "       'Juliette Has a Gun', 'Oscar de la Renta',\n",
       "       'Elizabeth And James Nirvana', 'FLOWER', 'Tom Ford', 'Lanvin',\n",
       "       'Parfums Gres', 'Vicki Tiel', 'Moschino', 'Dior', 'Fragonard',\n",
       "       'Kate Spade New York', 'Spiritual Sky', 'al hambra',\n",
       "       'GIORGIO BEVERLY HILLS', 'J. Del Pozo', 'True Religion',\n",
       "       'Taylor Swift', 'HERMÈS', 'Paco Rabanne', 'Kenneth Cole', 'Creed',\n",
       "       'Byredo', 'Acqua di Parma', 'Dana', 'Liz Claiborne', 'M·A·C',\n",
       "       'Robert Piguet', 'Halston', 'Gloss Moderne', 'Justin Bieber',\n",
       "       'Revlon', 'Sarah Jessica Parker', 'Jennifer Lopez', 'Xerjoff',\n",
       "       'Kate Spade', 'Gianni Versace', 'Zara', 'Al Wataniah', 'J Lo',\n",
       "       'Yardley London', 'Pure Romance', 'Tous', \"Perfumer's Workshop\",\n",
       "       'Boucheron', 'Parfum', 'Sean John', 'Bvlgari', 'Adam Levine',\n",
       "       'Jean couturier', 'Chopard', 'CHANGE For Women', 'ASST',\n",
       "       'Al-Rehab', 'Tiziana Terenzi', 'Tory Burch', 'Miraclelayer',\n",
       "       'Fragrance Couture', 'One Direction', 'Mancera', 'Montale',\n",
       "       'Prince Matchabelli', 'Giardini Di Toscana', 'Assorted',\n",
       "       'Jessica Simpson', 'love luxe beauty', 'Tru Fragrance',\n",
       "       'Sabrina Carpenter', 'Nest', 'Parfums Grès', 'Multiple Brands',\n",
       "       'Designer Series', 'Paloma Picasso', 'As Picture Show',\n",
       "       'Aeropostale', 'PHLUR', 'JLO', 'Ainash Perfums',\n",
       "       'Salvatore Ferragamo', 'diptyque', 'as showed',\n",
       "       'Maison Martin Margiela', 'T.O.V.A.', 'Jovan', 'Benetton',\n",
       "       'Tiffany & Co.', 'Fred Hayman', 'Miim Miic', 'Escada', 'AERIN',\n",
       "       'Giorgio Arm.ani', 'Pleasing', 'PINK', 'Perfume', 'ULTA',\n",
       "       'Rihanna', 'Vilhelm Parfumerie', 'Preferred Fragrance', 'Sisley',\n",
       "       'Anna Sui', 'Fuller Armand Dupree', 'dossier', 'BURBERRY',\n",
       "       'Atlantic', \"L'Artisan\", 'Clubman Pinaud', 'Lomani',\n",
       "       'Tommy Hilfiger', 'Banana Republic', 'Lolita Lempicka', 'MONTALE',\n",
       "       'ISSEY MIYAKE', nan, 'Baby Phat', 'MEM', 'Gwen Stefani', 'Chloé',\n",
       "       'Jeanne Arthes', 'Jean Paul Gaultier', 'Daddy Yankee',\n",
       "       'Classic Erotica', 'Pacifica', 'Snif', 'Bath & Body Works',\n",
       "       'Rasasi', 'The Body Shop', 'Five Star Fragrance', 'Pink sugar',\n",
       "       'Elizabeth & James', 'Elie Saab', 'SEE PHOTO',\n",
       "       'Armand Dupree Fuller', 'DKNY', 'United Colors of Benetton',\n",
       "       'Maison', 'Vince Camuto', 'Juliette Has A Gun'], dtype=object)"
      ]
     },
     "execution_count": 7,
     "metadata": {},
     "output_type": "execute_result"
    }
   ],
   "source": [
    "df['brand'].unique()"
   ]
  },
  {
   "cell_type": "code",
   "execution_count": 8,
   "id": "14c18687-a7d5-4661-b4b1-f7d294dbc9dc",
   "metadata": {},
   "outputs": [
    {
     "data": {
      "text/plain": [
       "brand                  1\n",
       "title                  0\n",
       "type                   2\n",
       "price                  0\n",
       "priceWithCurrency      0\n",
       "available            131\n",
       "availableText          8\n",
       "sold                  16\n",
       "lastUpdated           73\n",
       "itemLocation           0\n",
       "dtype: int64"
      ]
     },
     "execution_count": 8,
     "metadata": {},
     "output_type": "execute_result"
    }
   ],
   "source": [
    "df.isnull().sum()"
   ]
  },
  {
   "cell_type": "code",
   "execution_count": 9,
   "id": "b4493be8-8c27-4be3-b21e-1e38aa09bfa0",
   "metadata": {},
   "outputs": [
    {
     "name": "stderr",
     "output_type": "stream",
     "text": [
      "C:\\Users\\Admin\\AppData\\Local\\Temp\\ipykernel_2476\\1019338536.py:3: FutureWarning: Setting an item of incompatible dtype is deprecated and will raise in a future error of pandas. Value 'False' has dtype incompatible with float64, please explicitly cast to a compatible dtype first.\n",
      "  df[\"available\"].fillna(False, inplace=True)\n"
     ]
    }
   ],
   "source": [
    "df[\"brand\"].fillna(\"Unknown\", inplace=True)\n",
    "df[\"type\"].fillna(\"Unknown\", inplace=True)\n",
    "df[\"available\"].fillna(False, inplace=True)\n",
    "df[\"availableText\"].fillna(\"Unknown\", inplace=True)\n",
    "df[\"sold\"].fillna(0, inplace=True)\n",
    "df[\"lastUpdated\"].fillna(\"Not Updated\", inplace=True)\n"
   ]
  },
  {
   "cell_type": "code",
   "execution_count": 10,
   "id": "cd888d4e-3d96-46cd-b8fe-b03a4f5ca52e",
   "metadata": {},
   "outputs": [
    {
     "data": {
      "text/plain": [
       "brand                0\n",
       "title                0\n",
       "type                 0\n",
       "price                0\n",
       "priceWithCurrency    0\n",
       "available            0\n",
       "availableText        0\n",
       "sold                 0\n",
       "lastUpdated          0\n",
       "itemLocation         0\n",
       "dtype: int64"
      ]
     },
     "execution_count": 10,
     "metadata": {},
     "output_type": "execute_result"
    }
   ],
   "source": [
    "df.isnull().sum()"
   ]
  },
  {
   "cell_type": "code",
   "execution_count": 11,
   "id": "40c45f25-21cc-462f-9510-a28801fd0f64",
   "metadata": {},
   "outputs": [
    {
     "name": "stdout",
     "output_type": "stream",
     "text": [
      "Requirement already satisfied: sqlalchemy in c:\\users\\admin\\appdata\\local\\programs\\python\\python311\\lib\\site-packages (2.0.40)\n",
      "Requirement already satisfied: greenlet>=1 in c:\\users\\admin\\appdata\\local\\programs\\python\\python311\\lib\\site-packages (from sqlalchemy) (3.1.1)\n",
      "Requirement already satisfied: typing-extensions>=4.6.0 in c:\\users\\admin\\appdata\\local\\programs\\python\\python311\\lib\\site-packages (from sqlalchemy) (4.11.0)\n",
      "Note: you may need to restart the kernel to use updated packages.\n"
     ]
    },
    {
     "name": "stderr",
     "output_type": "stream",
     "text": [
      "\n",
      "[notice] A new release of pip is available: 24.0 -> 25.0.1\n",
      "[notice] To update, run: C:\\Users\\Admin\\AppData\\Local\\Programs\\Python\\Python311\\python.exe -m pip install --upgrade pip\n"
     ]
    }
   ],
   "source": [
    "pip install sqlalchemy"
   ]
  },
  {
   "cell_type": "code",
   "execution_count": 12,
   "id": "bbecced3-f8a1-4b8c-83ac-e1fa69dca12e",
   "metadata": {},
   "outputs": [],
   "source": [
    "import sqlalchemy as sal"
   ]
  },
  {
   "cell_type": "code",
   "execution_count": 13,
   "id": "f53aa009-21cc-479a-be2e-e09dc8aecc81",
   "metadata": {},
   "outputs": [],
   "source": [
    "engine = sal.create_engine('mssql://DESKTOP-9PNQ2R0\\SQLEXPRESS/master?driver=ODBC+DRIVER+17+FOR+SQL+SERVER')\n",
    "conn = engine.connect()"
   ]
  },
  {
   "cell_type": "code",
   "execution_count": 14,
   "id": "2a700c0d-bcb1-47c0-ba92-ce3c359c4ee2",
   "metadata": {},
   "outputs": [
    {
     "data": {
      "text/plain": [
       "164"
      ]
     },
     "execution_count": 14,
     "metadata": {},
     "output_type": "execute_result"
    }
   ],
   "source": [
    "df.to_sql('ebay_womens_perfume', con = conn, index = False, if_exists = 'replace')"
   ]
  },
  {
   "cell_type": "code",
   "execution_count": 15,
   "id": "c560396c-8272-4486-91bd-7d40f77ea6da",
   "metadata": {},
   "outputs": [
    {
     "name": "stdout",
     "output_type": "stream",
     "text": [
      "              type      sold\n",
      "0    Eau de Parfum  214556.0\n",
      "1  Eau de Toilette  173806.0\n"
     ]
    }
   ],
   "source": [
    "filtered_df = df[df[\"type\"].isin([\"Eau de Parfum\", \"Eau de Toilette\"])]\n",
    "\n",
    "# Group by type and sum the sales\n",
    "sales_comparison = filtered_df.groupby(\"type\")[\"sold\"].sum().reset_index()\n",
    "\n",
    "# Display the result\n",
    "print(sales_comparison)"
   ]
  },
  {
   "cell_type": "code",
   "execution_count": 16,
   "id": "bdc9613d-fa27-466b-a9bc-5c6346de7145",
   "metadata": {},
   "outputs": [
    {
     "data": {
      "image/png": "[encoded data removed]",
      "text/plain": [
       "<Figure size 800x500 with 1 Axes>"
      ]
     },
     "metadata": {},
     "output_type": "display_data"
    }
   ],
   "source": [
    "import matplotlib.pyplot as plt\n",
    "\n",
    "# Bar plot\n",
    "plt.figure(figsize=(8,5))\n",
    "plt.bar(sales_comparison[\"type\"], sales_comparison[\"sold\"], color=[\"blue\", \"green\"])\n",
    "plt.xlabel(\"Perfume Type\")\n",
    "plt.ylabel(\"Total Sales\")\n",
    "plt.title(\"Eau de Parfum vs Eau de Toilette Sales\")\n",
    "plt.show()"
   ]
  },
  {
   "cell_type": "code",
   "execution_count": null,
   "id": "006f57b2-00a4-4d28-a440-f5a8b69ffa9d",
   "metadata": {},
   "outputs": [],
   "source": []
  }
 ],
 "metadata": {
  "kernelspec": {
   "display_name": "Python 3 (ipykernel)",
   "language": "python",
   "name": "python3"
  },
  "language_info": {
   "codemirror_mode": {
    "name": "ipython",
    "version": 3
   },
   "file_extension": ".py",
   "mimetype": "text/x-python",
   "name": "python",
   "nbconvert_exporter": "python",
   "pygments_lexer": "ipython3",
   "version": "3.11.4"
  }
 },
 "nbformat": 4,
 "nbformat_minor": 5
}
